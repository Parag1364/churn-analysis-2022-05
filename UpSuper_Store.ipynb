{
 "cells": [
  {
   "cell_type": "code",
   "execution_count": null,
   "metadata": {},
   "outputs": [],
   "source": [
    "import pandas as pd\n",
    "import numpy as np\n",
    "import seaborn as sns\n",
    "import datetime as dt\n",
    "# [https://github.com/metmuseum/openaccess/raw/master/MetObjects.csv]\n",
    "# (https://github.com/metmuseum/openaccess/raw/master/MetObjects.csv)\n"
   ]
  },
  {
   "cell_type": "code",
   "execution_count": null,
   "metadata": {},
   "outputs": [],
   "source": [
    "path = \"Sales_US.csv\"\n",
    "df = pd.read_csv(path,parse_dates = ['Order Date', 'Ship Date'])\n",
    "df.head(3)"
   ]
  },
  {
   "cell_type": "code",
   "execution_count": null,
   "metadata": {},
   "outputs": [],
   "source": [
    "df.columns"
   ]
  },
  {
   "cell_type": "code",
   "execution_count": null,
   "metadata": {},
   "outputs": [],
   "source": [
    "def clean_currency(x):\n",
    "    if isinstance(x, str):\n",
    "        x = x.strip().replace('$', '').replace(',', '')\n",
    "        if x.startswith('('):\n",
    "            x = '-'+ x.strip('()')\n",
    "    return x"
   ]
  },
  {
   "cell_type": "code",
   "execution_count": null,
   "metadata": {},
   "outputs": [],
   "source": [
    "for i in ['Profit', 'Sales', 'Sales Forecast']:\n",
    "    df[i] = df[i].apply(clean_currency).astype('float')"
   ]
  },
  {
   "cell_type": "markdown",
   "metadata": {},
   "source": [
    "#### Most profitable sub-category in last 12 month sales"
   ]
  },
  {
   "cell_type": "code",
   "execution_count": null,
   "metadata": {},
   "outputs": [],
   "source": [
    "(df[pd.DatetimeIndex(df['Ship Date']).year == 2021][['Sub-Category', 'Profit']]\n",
    "   .groupby('Sub-Category').agg({'Profit': np.sum})\n",
    "   .sort_values(by = 'Profit',ascending = False)).index[0]"
   ]
  },
  {
   "cell_type": "markdown",
   "metadata": {},
   "source": [
    "#### Visualization of sales per month v/s same month last year sales"
   ]
  },
  {
   "cell_type": "code",
   "execution_count": null,
   "metadata": {},
   "outputs": [],
   "source": [
    "twoyrssales_df = df[pd.DatetimeIndex(df['Ship Date']).year >= 2020][['Ship Date', 'State', 'Sales', 'Profit']]\n",
    "twoyrssales_df['Year'] = pd.DatetimeIndex(twoyrssales_df['Ship Date']).year\n",
    "twoyrssales_df['Month'] = pd.DatetimeIndex(twoyrssales_df['Ship Date']).month\n",
    "twoyrssales_df = twoyrssales_df.loc[twoyrssales_df['Year'] < 2022]"
   ]
  },
  {
   "cell_type": "code",
   "execution_count": null,
   "metadata": {},
   "outputs": [],
   "source": [
    "twoyrssales_df = twoyrssales_df[['Year', 'Month', 'State', 'Sales']]\n",
    "twoyrssummary_df = twoyrssales_df.groupby(['Year', 'Month','State']).sum()"
   ]
  },
  {
   "cell_type": "code",
   "execution_count": null,
   "metadata": {},
   "outputs": [],
   "source": [
    "twoyrssummary_df"
   ]
  },
  {
   "cell_type": "code",
   "execution_count": null,
   "metadata": {},
   "outputs": [],
   "source": [
    "twoyrssummary_df = twoyrssummary_df.unstack(level = -3, fill_value = 0)\n",
    "twoyrssummary_df"
   ]
  },
  {
   "cell_type": "code",
   "execution_count": null,
   "metadata": {},
   "outputs": [],
   "source": [
    "twoyrssummary_df = twoyrssummary_df.Sales.reset_index()\n",
    "twoyrssummary_df"
   ]
  },
  {
   "cell_type": "code",
   "execution_count": null,
   "metadata": {},
   "outputs": [],
   "source": [
    "def subplot_by_colval(indf,subplotcol,xcol,ycol,**kwargs):\n",
    "    colval = indf[subplotcol].sort_values().unique()\n",
    "    for c in colval:\n",
    "        querystr = subplotcol+' == '+str(c)\n",
    "        chart_title = subplotcol+': '+str(c)\n",
    "        indf.query(querystr).plot(xcol,ycol,title = chart_title, **kwargs)\n",
    "subplot_by_colval(twoyrssummary_df,'Month','State',[2020,2021],kind = 'bar', figsize = (16,5), fontsize = 10, rot = 65)"
   ]
  },
  {
   "cell_type": "markdown",
   "metadata": {},
   "source": [
    "#### Churn rate per state\n",
    "#### if customer doesn't purchase any thing from stores within 180 days form his/her last purchase, then we consider as a \n",
    "#### churned customer."
   ]
  },
  {
   "cell_type": "code",
   "execution_count": null,
   "metadata": {},
   "outputs": [],
   "source": [
    "churn_df = df.groupby(['State','Customer ID'])['Ship Date'].max().reset_index()"
   ]
  },
  {
   "cell_type": "code",
   "execution_count": null,
   "metadata": {},
   "outputs": [],
   "source": [
    "churn_df['days_from_lastpurchase'] = df['Ship Date'].max() - churn_df['Ship Date']"
   ]
  },
  {
   "cell_type": "code",
   "execution_count": null,
   "metadata": {},
   "outputs": [],
   "source": [
    "churn_df['days_from_lastpurchase'] = churn_df['days_from_lastpurchase'].apply( lambda x: x.days) #convert timedelta to int"
   ]
  },
  {
   "cell_type": "code",
   "execution_count": null,
   "metadata": {},
   "outputs": [],
   "source": [
    "churn_period = 180\n",
    "churn_df.loc[churn_df['days_from_lastpurchase'] > churn_period, 'Category'] = 'Churned'\n",
    "churn_df.loc[churn_df['days_from_lastpurchase'] < churn_period, 'Category'] = 'Survived'"
   ]
  },
  {
   "cell_type": "code",
   "execution_count": null,
   "metadata": {},
   "outputs": [],
   "source": [
    "churn_df.head(30)"
   ]
  },
  {
   "cell_type": "code",
   "execution_count": null,
   "metadata": {},
   "outputs": [],
   "source": [
    "churn_rate_df = (churn_df[['State','Category', 'days_from_lastpurchase']].groupby(['State','Category']).agg(['count'])\n",
    "            .reset_index())\n",
    "churn_rate_df"
   ]
  },
  {
   "cell_type": "code",
   "execution_count": null,
   "metadata": {},
   "outputs": [],
   "source": [
    "churn_rate_df = churn_rate_df.pivot(columns='Category',values = ['days_from_lastpurchase'],index='State').fillna(0)\n",
    "churn_rate_df"
   ]
  },
  {
   "cell_type": "code",
   "execution_count": null,
   "metadata": {},
   "outputs": [],
   "source": [
    "churn_rate_df = churn_rate_df['days_from_lastpurchase'].reset_index()"
   ]
  },
  {
   "cell_type": "code",
   "execution_count": null,
   "metadata": {},
   "outputs": [],
   "source": [
    "churn_rate_df['churn_rate'] = (round((churn_rate_df['Churned'] *100) / (churn_rate_df['Churned'] + \n",
    "                                                                        churn_rate_df['Survived']),0))\n",
    "churn_rate_df.sort_values(by='churn_rate', ascending=True)"
   ]
  },
  {
   "cell_type": "code",
   "execution_count": null,
   "metadata": {},
   "outputs": [],
   "source": [
    "churn_rate_df[['Churned','Survived']].sum()"
   ]
  },
  {
   "cell_type": "markdown",
   "metadata": {},
   "source": [
    "#### Boxplot of churned customers per state"
   ]
  },
  {
   "cell_type": "code",
   "execution_count": null,
   "metadata": {},
   "outputs": [],
   "source": [
    "#churn_df = churn_df[['State', 'days_from_lastpurchase','Category']]\n",
    "churn_pos_df = churn_df.loc[churn_df['Category'] == 'Churned']\n",
    "sns.set(rc={'figure.figsize':(22, 5)})\n",
    "x = sns.boxplot(data = churn_pos_df, x ='State',y ='days_from_lastpurchase')\n",
    "x.set_xticklabels(labels = churn_pos_df.State.unique(), rotation = 75,fontsize = 16);"
   ]
  },
  {
   "cell_type": "markdown",
   "metadata": {},
   "source": [
    "#### Boxplot Visualization of Survived customers"
   ]
  },
  {
   "cell_type": "code",
   "execution_count": null,
   "metadata": {
    "scrolled": true
   },
   "outputs": [],
   "source": [
    "churn_neg_df = churn_df.loc[churn_df['Category'] == 'Survived']\n",
    "sns.set(rc={'figure.figsize':(22, 5)})\n",
    "x = sns.boxplot(data = churn_neg_df, x ='State',y ='days_from_lastpurchase')\n",
    "x.set_xticklabels(labels = churn_neg_df.State.unique(), rotation = 75,fontsize = 16);"
   ]
  },
  {
   "cell_type": "markdown",
   "metadata": {},
   "source": [
    "#### Customer Lifetime Value (CLV)"
   ]
  },
  {
   "cell_type": "markdown",
   "metadata": {},
   "source": [
    "#### By Sales"
   ]
  },
  {
   "cell_type": "code",
   "execution_count": null,
   "metadata": {},
   "outputs": [],
   "source": [
    "(df.groupby(['Customer ID','Customer Name']).agg({'Sales':np.sum, 'Profit':np.sum}).\n",
    " sort_values(by = 'Sales',ascending = False))"
   ]
  },
  {
   "cell_type": "markdown",
   "metadata": {},
   "source": [
    "#### By Profit"
   ]
  },
  {
   "cell_type": "code",
   "execution_count": null,
   "metadata": {},
   "outputs": [],
   "source": [
    "(df.groupby(['Customer ID','Customer Name']).agg({'Sales':np.sum, 'Profit':np.sum}).\n",
    " sort_values(by = 'Profit',ascending = False))"
   ]
  },
  {
   "cell_type": "markdown",
   "metadata": {},
   "source": [
    "## Most profitable category and sub-category by segments"
   ]
  },
  {
   "cell_type": "code",
   "execution_count": null,
   "metadata": {},
   "outputs": [],
   "source": [
    "(df.groupby(['Category', 'Sub-Category','Segment' ]).agg({'Profit': np.sum}).sort_values(by='Profit',\n",
    "                                                                                                           ascending=False))"
   ]
  },
  {
   "cell_type": "markdown",
   "metadata": {},
   "source": [
    "#### Visualization of sold products per month v/s same month last year sold products"
   ]
  },
  {
   "cell_type": "code",
   "execution_count": null,
   "metadata": {},
   "outputs": [],
   "source": [
    "soldproducts_df = (df.loc[(pd.DatetimeIndex(df['Ship Date']).year < 2022) & (pd.DatetimeIndex(df['Ship Date']).year > 2019)]\n",
    " [['State','Product ID','Quantity', 'Ship Date']])"
   ]
  },
  {
   "cell_type": "code",
   "execution_count": null,
   "metadata": {},
   "outputs": [],
   "source": [
    "#soldproducts_df['Year'] = pd.DatetimeIndex(soldproducts_df['Ship Date']).year\n",
    "soldproducts_df['Year'] = soldproducts_df['Ship Date'].apply( lambda x : x.strftime('%Y'))\n",
    "soldproducts_df['Month'] = pd.DatetimeIndex(soldproducts_df['Ship Date']).month"
   ]
  },
  {
   "cell_type": "code",
   "execution_count": null,
   "metadata": {},
   "outputs": [],
   "source": [
    "soldproducts_df"
   ]
  },
  {
   "cell_type": "code",
   "execution_count": null,
   "metadata": {},
   "outputs": [],
   "source": [
    "soldproducts_df = soldproducts_df.groupby(['Year', 'Month', 'State']).agg({'Quantity': np.sum})"
   ]
  },
  {
   "cell_type": "code",
   "execution_count": null,
   "metadata": {},
   "outputs": [],
   "source": [
    "soldproducts_df = soldproducts_df.unstack(level = -3).fillna(0).reset_index()"
   ]
  },
  {
   "cell_type": "code",
   "execution_count": null,
   "metadata": {},
   "outputs": [],
   "source": [
    "soldproducts_df.columns = ['_'.join(c) for c in soldproducts_df.columns.values]"
   ]
  },
  {
   "cell_type": "code",
   "execution_count": null,
   "metadata": {},
   "outputs": [],
   "source": [
    "(subplot_by_colval(soldproducts_df,'Month_','State_',['Quantity_2020','Quantity_2021'],kind = 'bar', figsize = (16,5),\n",
    "                   fontsize = 10, rot = 65))"
   ]
  },
  {
   "cell_type": "code",
   "execution_count": null,
   "metadata": {},
   "outputs": [],
   "source": []
  },
  {
   "cell_type": "code",
   "execution_count": null,
   "metadata": {},
   "outputs": [],
   "source": []
  }
 ],
 "metadata": {
  "interpreter": {
   "hash": "c30388c6673c8a992b129edd868f5840bbcd28596a1e5161f493b1e1ebfbe512"
  },
  "kernelspec": {
   "display_name": "Python 3",
   "language": "python",
   "name": "python3"
  },
  "language_info": {
   "codemirror_mode": {
    "name": "ipython",
    "version": 3
   },
   "file_extension": ".py",
   "mimetype": "text/x-python",
   "name": "python",
   "nbconvert_exporter": "python",
   "pygments_lexer": "ipython3",
   "version": "3.7.7"
  }
 },
 "nbformat": 4,
 "nbformat_minor": 4
}
